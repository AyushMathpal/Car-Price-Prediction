{
  "nbformat": 4,
  "nbformat_minor": 0,
  "metadata": {
    "colab": {
      "provenance": [],
      "authorship_tag": "ABX9TyPsQvo8hFtdICMtT1qU3IN9",
      "include_colab_link": true
    },
    "kernelspec": {
      "name": "python3",
      "display_name": "Python 3"
    },
    "language_info": {
      "name": "python"
    }
  },
  "cells": [
    {
      "cell_type": "markdown",
      "metadata": {
        "id": "view-in-github",
        "colab_type": "text"
      },
      "source": [
        "<a href=\"https://colab.research.google.com/github/AyushMathpal/Car-Price-Prediction/blob/main/Car_Price_Prediction.ipynb\" target=\"_parent\"><img src=\"https://colab.research.google.com/assets/colab-badge.svg\" alt=\"Open In Colab\"/></a>"
      ]
    },
    {
      "cell_type": "code",
      "execution_count": null,
      "metadata": {
        "id": "rAugUE3-f4ey"
      },
      "outputs": [],
      "source": [
        "import tensorflow as tf\n",
        "import pandas as pd\n",
        "import seaborn as sns\n",
        "import numpy as np\n",
        "import matplotlib.pyplot as plt\n",
        "from tensorflow.keras.layers import Normalization, Dense, InputLayer\n",
        "from tensorflow.keras.losses import MeanSquaredError, Huber, MeanAbsoluteError\n",
        "from tensorflow.keras.metrics import RootMeanSquaredError\n",
        "from tensorflow.keras.optimizers import Adam"
      ]
    },
    {
      "cell_type": "markdown",
      "source": [
        "# Data Preparation"
      ],
      "metadata": {
        "id": "eMpO_JjKnqnQ"
      }
    },
    {
      "cell_type": "code",
      "source": [
        "data = pd.read_csv(\"train.csv\", \",\")\n",
        "data.head()"
      ],
      "metadata": {
        "colab": {
          "base_uri": "https://localhost:8080/",
          "height": 261
        },
        "id": "xQd-I4yhmvLp",
        "outputId": "e33e2d6e-1d16-405e-f139-e7a53d22f87f"
      },
      "execution_count": null,
      "outputs": [
        {
          "output_type": "stream",
          "name": "stderr",
          "text": [
            "<ipython-input-163-5b1cd68051af>:1: FutureWarning: In a future version of pandas all arguments of read_csv except for the argument 'filepath_or_buffer' will be keyword-only.\n",
            "  data = pd.read_csv(\"train.csv\", \",\")\n"
          ]
        },
        {
          "output_type": "execute_result",
          "data": {
            "text/plain": [
              "   v.id  on road old  on road now  years      km  rating  condition  economy  \\\n",
              "0     1       535651       798186      3   78945       1          2       14   \n",
              "1     2       591911       861056      6  117220       5          9        9   \n",
              "2     3       686990       770762      2  132538       2          8       15   \n",
              "3     4       573999       722381      4  101065       4          3       11   \n",
              "4     5       691388       811335      6   61559       3          9       12   \n",
              "\n",
              "   top speed  hp  torque  current price  \n",
              "0        177  73     123       351318.0  \n",
              "1        148  74      95       285001.5  \n",
              "2        181  53      97       215386.0  \n",
              "3        197  54     116       244295.5  \n",
              "4        160  53     105       531114.5  "
            ],
            "text/html": [
              "\n",
              "  <div id=\"df-9edd3ff4-62cf-4a2c-b794-20c0854e677e\" class=\"colab-df-container\">\n",
              "    <div>\n",
              "<style scoped>\n",
              "    .dataframe tbody tr th:only-of-type {\n",
              "        vertical-align: middle;\n",
              "    }\n",
              "\n",
              "    .dataframe tbody tr th {\n",
              "        vertical-align: top;\n",
              "    }\n",
              "\n",
              "    .dataframe thead th {\n",
              "        text-align: right;\n",
              "    }\n",
              "</style>\n",
              "<table border=\"1\" class=\"dataframe\">\n",
              "  <thead>\n",
              "    <tr style=\"text-align: right;\">\n",
              "      <th></th>\n",
              "      <th>v.id</th>\n",
              "      <th>on road old</th>\n",
              "      <th>on road now</th>\n",
              "      <th>years</th>\n",
              "      <th>km</th>\n",
              "      <th>rating</th>\n",
              "      <th>condition</th>\n",
              "      <th>economy</th>\n",
              "      <th>top speed</th>\n",
              "      <th>hp</th>\n",
              "      <th>torque</th>\n",
              "      <th>current price</th>\n",
              "    </tr>\n",
              "  </thead>\n",
              "  <tbody>\n",
              "    <tr>\n",
              "      <th>0</th>\n",
              "      <td>1</td>\n",
              "      <td>535651</td>\n",
              "      <td>798186</td>\n",
              "      <td>3</td>\n",
              "      <td>78945</td>\n",
              "      <td>1</td>\n",
              "      <td>2</td>\n",
              "      <td>14</td>\n",
              "      <td>177</td>\n",
              "      <td>73</td>\n",
              "      <td>123</td>\n",
              "      <td>351318.0</td>\n",
              "    </tr>\n",
              "    <tr>\n",
              "      <th>1</th>\n",
              "      <td>2</td>\n",
              "      <td>591911</td>\n",
              "      <td>861056</td>\n",
              "      <td>6</td>\n",
              "      <td>117220</td>\n",
              "      <td>5</td>\n",
              "      <td>9</td>\n",
              "      <td>9</td>\n",
              "      <td>148</td>\n",
              "      <td>74</td>\n",
              "      <td>95</td>\n",
              "      <td>285001.5</td>\n",
              "    </tr>\n",
              "    <tr>\n",
              "      <th>2</th>\n",
              "      <td>3</td>\n",
              "      <td>686990</td>\n",
              "      <td>770762</td>\n",
              "      <td>2</td>\n",
              "      <td>132538</td>\n",
              "      <td>2</td>\n",
              "      <td>8</td>\n",
              "      <td>15</td>\n",
              "      <td>181</td>\n",
              "      <td>53</td>\n",
              "      <td>97</td>\n",
              "      <td>215386.0</td>\n",
              "    </tr>\n",
              "    <tr>\n",
              "      <th>3</th>\n",
              "      <td>4</td>\n",
              "      <td>573999</td>\n",
              "      <td>722381</td>\n",
              "      <td>4</td>\n",
              "      <td>101065</td>\n",
              "      <td>4</td>\n",
              "      <td>3</td>\n",
              "      <td>11</td>\n",
              "      <td>197</td>\n",
              "      <td>54</td>\n",
              "      <td>116</td>\n",
              "      <td>244295.5</td>\n",
              "    </tr>\n",
              "    <tr>\n",
              "      <th>4</th>\n",
              "      <td>5</td>\n",
              "      <td>691388</td>\n",
              "      <td>811335</td>\n",
              "      <td>6</td>\n",
              "      <td>61559</td>\n",
              "      <td>3</td>\n",
              "      <td>9</td>\n",
              "      <td>12</td>\n",
              "      <td>160</td>\n",
              "      <td>53</td>\n",
              "      <td>105</td>\n",
              "      <td>531114.5</td>\n",
              "    </tr>\n",
              "  </tbody>\n",
              "</table>\n",
              "</div>\n",
              "    <div class=\"colab-df-buttons\">\n",
              "\n",
              "  <div class=\"colab-df-container\">\n",
              "    <button class=\"colab-df-convert\" onclick=\"convertToInteractive('df-9edd3ff4-62cf-4a2c-b794-20c0854e677e')\"\n",
              "            title=\"Convert this dataframe to an interactive table.\"\n",
              "            style=\"display:none;\">\n",
              "\n",
              "  <svg xmlns=\"http://www.w3.org/2000/svg\" height=\"24px\" viewBox=\"0 -960 960 960\">\n",
              "    <path d=\"M120-120v-720h720v720H120Zm60-500h600v-160H180v160Zm220 220h160v-160H400v160Zm0 220h160v-160H400v160ZM180-400h160v-160H180v160Zm440 0h160v-160H620v160ZM180-180h160v-160H180v160Zm440 0h160v-160H620v160Z\"/>\n",
              "  </svg>\n",
              "    </button>\n",
              "\n",
              "  <style>\n",
              "    .colab-df-container {\n",
              "      display:flex;\n",
              "      gap: 12px;\n",
              "    }\n",
              "\n",
              "    .colab-df-convert {\n",
              "      background-color: #E8F0FE;\n",
              "      border: none;\n",
              "      border-radius: 50%;\n",
              "      cursor: pointer;\n",
              "      display: none;\n",
              "      fill: #1967D2;\n",
              "      height: 32px;\n",
              "      padding: 0 0 0 0;\n",
              "      width: 32px;\n",
              "    }\n",
              "\n",
              "    .colab-df-convert:hover {\n",
              "      background-color: #E2EBFA;\n",
              "      box-shadow: 0px 1px 2px rgba(60, 64, 67, 0.3), 0px 1px 3px 1px rgba(60, 64, 67, 0.15);\n",
              "      fill: #174EA6;\n",
              "    }\n",
              "\n",
              "    .colab-df-buttons div {\n",
              "      margin-bottom: 4px;\n",
              "    }\n",
              "\n",
              "    [theme=dark] .colab-df-convert {\n",
              "      background-color: #3B4455;\n",
              "      fill: #D2E3FC;\n",
              "    }\n",
              "\n",
              "    [theme=dark] .colab-df-convert:hover {\n",
              "      background-color: #434B5C;\n",
              "      box-shadow: 0px 1px 3px 1px rgba(0, 0, 0, 0.15);\n",
              "      filter: drop-shadow(0px 1px 2px rgba(0, 0, 0, 0.3));\n",
              "      fill: #FFFFFF;\n",
              "    }\n",
              "  </style>\n",
              "\n",
              "    <script>\n",
              "      const buttonEl =\n",
              "        document.querySelector('#df-9edd3ff4-62cf-4a2c-b794-20c0854e677e button.colab-df-convert');\n",
              "      buttonEl.style.display =\n",
              "        google.colab.kernel.accessAllowed ? 'block' : 'none';\n",
              "\n",
              "      async function convertToInteractive(key) {\n",
              "        const element = document.querySelector('#df-9edd3ff4-62cf-4a2c-b794-20c0854e677e');\n",
              "        const dataTable =\n",
              "          await google.colab.kernel.invokeFunction('convertToInteractive',\n",
              "                                                    [key], {});\n",
              "        if (!dataTable) return;\n",
              "\n",
              "        const docLinkHtml = 'Like what you see? Visit the ' +\n",
              "          '<a target=\"_blank\" href=https://colab.research.google.com/notebooks/data_table.ipynb>data table notebook</a>'\n",
              "          + ' to learn more about interactive tables.';\n",
              "        element.innerHTML = '';\n",
              "        dataTable['output_type'] = 'display_data';\n",
              "        await google.colab.output.renderOutput(dataTable, element);\n",
              "        const docLink = document.createElement('div');\n",
              "        docLink.innerHTML = docLinkHtml;\n",
              "        element.appendChild(docLink);\n",
              "      }\n",
              "    </script>\n",
              "  </div>\n",
              "\n",
              "\n",
              "<div id=\"df-486db504-c35d-4dd9-8b5d-dfae7e838ed4\">\n",
              "  <button class=\"colab-df-quickchart\" onclick=\"quickchart('df-486db504-c35d-4dd9-8b5d-dfae7e838ed4')\"\n",
              "            title=\"Suggest charts\"\n",
              "            style=\"display:none;\">\n",
              "\n",
              "<svg xmlns=\"http://www.w3.org/2000/svg\" height=\"24px\"viewBox=\"0 0 24 24\"\n",
              "     width=\"24px\">\n",
              "    <g>\n",
              "        <path d=\"M19 3H5c-1.1 0-2 .9-2 2v14c0 1.1.9 2 2 2h14c1.1 0 2-.9 2-2V5c0-1.1-.9-2-2-2zM9 17H7v-7h2v7zm4 0h-2V7h2v10zm4 0h-2v-4h2v4z\"/>\n",
              "    </g>\n",
              "</svg>\n",
              "  </button>\n",
              "\n",
              "<style>\n",
              "  .colab-df-quickchart {\n",
              "      --bg-color: #E8F0FE;\n",
              "      --fill-color: #1967D2;\n",
              "      --hover-bg-color: #E2EBFA;\n",
              "      --hover-fill-color: #174EA6;\n",
              "      --disabled-fill-color: #AAA;\n",
              "      --disabled-bg-color: #DDD;\n",
              "  }\n",
              "\n",
              "  [theme=dark] .colab-df-quickchart {\n",
              "      --bg-color: #3B4455;\n",
              "      --fill-color: #D2E3FC;\n",
              "      --hover-bg-color: #434B5C;\n",
              "      --hover-fill-color: #FFFFFF;\n",
              "      --disabled-bg-color: #3B4455;\n",
              "      --disabled-fill-color: #666;\n",
              "  }\n",
              "\n",
              "  .colab-df-quickchart {\n",
              "    background-color: var(--bg-color);\n",
              "    border: none;\n",
              "    border-radius: 50%;\n",
              "    cursor: pointer;\n",
              "    display: none;\n",
              "    fill: var(--fill-color);\n",
              "    height: 32px;\n",
              "    padding: 0;\n",
              "    width: 32px;\n",
              "  }\n",
              "\n",
              "  .colab-df-quickchart:hover {\n",
              "    background-color: var(--hover-bg-color);\n",
              "    box-shadow: 0 1px 2px rgba(60, 64, 67, 0.3), 0 1px 3px 1px rgba(60, 64, 67, 0.15);\n",
              "    fill: var(--button-hover-fill-color);\n",
              "  }\n",
              "\n",
              "  .colab-df-quickchart-complete:disabled,\n",
              "  .colab-df-quickchart-complete:disabled:hover {\n",
              "    background-color: var(--disabled-bg-color);\n",
              "    fill: var(--disabled-fill-color);\n",
              "    box-shadow: none;\n",
              "  }\n",
              "\n",
              "  .colab-df-spinner {\n",
              "    border: 2px solid var(--fill-color);\n",
              "    border-color: transparent;\n",
              "    border-bottom-color: var(--fill-color);\n",
              "    animation:\n",
              "      spin 1s steps(1) infinite;\n",
              "  }\n",
              "\n",
              "  @keyframes spin {\n",
              "    0% {\n",
              "      border-color: transparent;\n",
              "      border-bottom-color: var(--fill-color);\n",
              "      border-left-color: var(--fill-color);\n",
              "    }\n",
              "    20% {\n",
              "      border-color: transparent;\n",
              "      border-left-color: var(--fill-color);\n",
              "      border-top-color: var(--fill-color);\n",
              "    }\n",
              "    30% {\n",
              "      border-color: transparent;\n",
              "      border-left-color: var(--fill-color);\n",
              "      border-top-color: var(--fill-color);\n",
              "      border-right-color: var(--fill-color);\n",
              "    }\n",
              "    40% {\n",
              "      border-color: transparent;\n",
              "      border-right-color: var(--fill-color);\n",
              "      border-top-color: var(--fill-color);\n",
              "    }\n",
              "    60% {\n",
              "      border-color: transparent;\n",
              "      border-right-color: var(--fill-color);\n",
              "    }\n",
              "    80% {\n",
              "      border-color: transparent;\n",
              "      border-right-color: var(--fill-color);\n",
              "      border-bottom-color: var(--fill-color);\n",
              "    }\n",
              "    90% {\n",
              "      border-color: transparent;\n",
              "      border-bottom-color: var(--fill-color);\n",
              "    }\n",
              "  }\n",
              "</style>\n",
              "\n",
              "  <script>\n",
              "    async function quickchart(key) {\n",
              "      const quickchartButtonEl =\n",
              "        document.querySelector('#' + key + ' button');\n",
              "      quickchartButtonEl.disabled = true;  // To prevent multiple clicks.\n",
              "      quickchartButtonEl.classList.add('colab-df-spinner');\n",
              "      try {\n",
              "        const charts = await google.colab.kernel.invokeFunction(\n",
              "            'suggestCharts', [key], {});\n",
              "      } catch (error) {\n",
              "        console.error('Error during call to suggestCharts:', error);\n",
              "      }\n",
              "      quickchartButtonEl.classList.remove('colab-df-spinner');\n",
              "      quickchartButtonEl.classList.add('colab-df-quickchart-complete');\n",
              "    }\n",
              "    (() => {\n",
              "      let quickchartButtonEl =\n",
              "        document.querySelector('#df-486db504-c35d-4dd9-8b5d-dfae7e838ed4 button');\n",
              "      quickchartButtonEl.style.display =\n",
              "        google.colab.kernel.accessAllowed ? 'block' : 'none';\n",
              "    })();\n",
              "  </script>\n",
              "</div>\n",
              "\n",
              "    </div>\n",
              "  </div>\n"
            ]
          },
          "metadata": {},
          "execution_count": 163
        }
      ]
    },
    {
      "cell_type": "code",
      "source": [
        "tensor_data = tf.constant(data)\n",
        "tensor_data = tf.cast(tensor_data, tf.float32)\n",
        "tensor_data = tf.random.shuffle(tensor_data)\n",
        "print(tensor_data[:5])"
      ],
      "metadata": {
        "colab": {
          "base_uri": "https://localhost:8080/"
        },
        "id": "ncqc3jWgogFi",
        "outputId": "6e803171-0644-4259-e416-8eb73f75ee63"
      },
      "execution_count": null,
      "outputs": [
        {
          "output_type": "stream",
          "name": "stdout",
          "text": [
            "tf.Tensor(\n",
            "[[4.880000e+02 5.435870e+05 8.112450e+05 3.000000e+00 7.271400e+04\n",
            "  5.000000e+00 3.000000e+00 1.200000e+01 1.510000e+02 1.000000e+02\n",
            "  1.120000e+02 3.883760e+05]\n",
            " [6.480000e+02 6.002240e+05 8.927850e+05 7.000000e+00 9.333500e+04\n",
            "  4.000000e+00 5.000000e+00 1.300000e+01 2.000000e+02 1.150000e+02\n",
            "  8.900000e+01 3.671220e+05]\n",
            " [3.890000e+02 6.569560e+05 7.966380e+05 6.000000e+00 6.276800e+04\n",
            "  1.000000e+00 1.000000e+00 1.300000e+01 1.650000e+02 7.300000e+01\n",
            "  7.900000e+01 4.720810e+05]\n",
            " [1.920000e+02 6.173060e+05 7.142140e+05 6.000000e+00 7.979700e+04\n",
            "  1.000000e+00 1.000000e+01 1.000000e+01 1.920000e+02 6.300000e+01\n",
            "  1.170000e+02 3.929205e+05]\n",
            " [8.980000e+02 5.819500e+05 7.397220e+05 3.000000e+00 1.387150e+05\n",
            "  1.000000e+00 6.000000e+00 1.400000e+01 1.590000e+02 1.010000e+02\n",
            "  1.010000e+02 1.100215e+05]], shape=(5, 12), dtype=float32)\n"
          ]
        }
      ]
    },
    {
      "cell_type": "code",
      "source": [
        "X=tensor_data[:,3:-1]\n",
        "print(X.shape)"
      ],
      "metadata": {
        "colab": {
          "base_uri": "https://localhost:8080/"
        },
        "id": "RpuI48VVsTeB",
        "outputId": "1929e56e-15ed-4b46-c664-93ee17de44b6"
      },
      "execution_count": null,
      "outputs": [
        {
          "output_type": "stream",
          "name": "stdout",
          "text": [
            "(1000, 8)\n"
          ]
        }
      ]
    },
    {
      "cell_type": "code",
      "source": [
        "Y=tensor_data[:,-1]\n",
        "Y=tf.expand_dims(Y,axis=-1)\n",
        "print(Y.shape)"
      ],
      "metadata": {
        "colab": {
          "base_uri": "https://localhost:8080/"
        },
        "id": "n9hRJMoLujqL",
        "outputId": "72b58b80-fb52-4a16-9afd-4dfd05721c6a"
      },
      "execution_count": null,
      "outputs": [
        {
          "output_type": "stream",
          "name": "stdout",
          "text": [
            "(1000, 1)\n"
          ]
        }
      ]
    },
    {
      "cell_type": "code",
      "source": [
        "TRAIN_RATIO = 0.8\n",
        "VAL_RATIO = 0.1\n",
        "TEST_RATIO = 0.1\n",
        "DATASET_SIZE = len(X)"
      ],
      "metadata": {
        "id": "P_QKhVYiF35c"
      },
      "execution_count": null,
      "outputs": []
    },
    {
      "cell_type": "code",
      "source": [
        "X_train = X[:int(DATASET_SIZE*TRAIN_RATIO)] #800\n",
        "y_train = Y[:int(DATASET_SIZE*TRAIN_RATIO)] #800\n",
        "print(X_train.shape)\n",
        "print(y_train.shape)"
      ],
      "metadata": {
        "colab": {
          "base_uri": "https://localhost:8080/"
        },
        "id": "Ipdyq9U5F5AM",
        "outputId": "2512aa49-fdc0-42ef-a3fe-7d46e9790311"
      },
      "execution_count": null,
      "outputs": [
        {
          "output_type": "stream",
          "name": "stdout",
          "text": [
            "(800, 8)\n",
            "(800, 1)\n"
          ]
        }
      ]
    },
    {
      "cell_type": "code",
      "source": [
        "train_dataset = tf.data.Dataset.from_tensor_slices((X_train, y_train))\n",
        "train_dataset = train_dataset.shuffle(buffer_size = 8, reshuffle_each_iteration = True).batch(32).prefetch(tf.data.AUTOTUNE)"
      ],
      "metadata": {
        "id": "xZm5DwYGMkHO"
      },
      "execution_count": null,
      "outputs": []
    },
    {
      "cell_type": "code",
      "source": [
        "X_val = X[int(DATASET_SIZE*TRAIN_RATIO):int(DATASET_SIZE*(TRAIN_RATIO+VAL_RATIO))]\n",
        "y_val = Y[int(DATASET_SIZE*TRAIN_RATIO):int(DATASET_SIZE*(TRAIN_RATIO+VAL_RATIO))]\n",
        "print(X_val.shape)\n",
        "print(y_val.shape)"
      ],
      "metadata": {
        "colab": {
          "base_uri": "https://localhost:8080/"
        },
        "id": "wF0-xBKaGstb",
        "outputId": "698338f2-efaa-404b-8fa6-50edd1ce5619"
      },
      "execution_count": null,
      "outputs": [
        {
          "output_type": "stream",
          "name": "stdout",
          "text": [
            "(100, 8)\n",
            "(100, 1)\n"
          ]
        }
      ]
    },
    {
      "cell_type": "code",
      "source": [
        "val_dataset = tf.data.Dataset.from_tensor_slices((X_val, y_val))\n",
        "val_dataset = train_dataset.shuffle(buffer_size = 8, reshuffle_each_iteration = True).batch(32).prefetch(tf.data.AUTOTUNE)"
      ],
      "metadata": {
        "id": "FIkX_uefMZHe"
      },
      "execution_count": null,
      "outputs": []
    },
    {
      "cell_type": "code",
      "source": [
        "X_test = X[int(DATASET_SIZE*(TRAIN_RATIO+VAL_RATIO)):]\n",
        "y_test = Y[int(DATASET_SIZE*(TRAIN_RATIO+VAL_RATIO)):]\n",
        "print(X_test.shape)\n",
        "print(y_test.shape)"
      ],
      "metadata": {
        "colab": {
          "base_uri": "https://localhost:8080/"
        },
        "id": "sJ9Ny_XpG6UQ",
        "outputId": "a3378fa3-ef63-45a3-bef3-59c4f6de57d8"
      },
      "execution_count": null,
      "outputs": [
        {
          "output_type": "stream",
          "name": "stdout",
          "text": [
            "(100, 8)\n",
            "(100, 1)\n"
          ]
        }
      ]
    },
    {
      "cell_type": "code",
      "source": [
        "test_dataset = tf.data.Dataset.from_tensor_slices((X_test, y_test))\n",
        "test_dataset = train_dataset.shuffle(buffer_size = 8, reshuffle_each_iteration = True).batch(32).prefetch(tf.data.AUTOTUNE)"
      ],
      "metadata": {
        "id": "XZFzhiXdMVe5"
      },
      "execution_count": null,
      "outputs": []
    },
    {
      "cell_type": "code",
      "source": [
        "normalizer = Normalization()\n",
        "normalizer.adapt(X_train)"
      ],
      "metadata": {
        "id": "7162RuB4Jri_"
      },
      "execution_count": null,
      "outputs": []
    },
    {
      "cell_type": "code",
      "source": [
        "model=tf.keras.Sequential([InputLayer(input_shape=(8),),\n",
        "                          normalizer,\n",
        "                           Dense(128, activation = \"relu\"),\n",
        "                           Dense(128, activation = \"relu\"),\n",
        "                           Dense(128, activation = \"relu\"),\n",
        "                            Dense(1),\n",
        "                           ])"
      ],
      "metadata": {
        "id": "Ndh6gLDu2ElM"
      },
      "execution_count": null,
      "outputs": []
    },
    {
      "cell_type": "code",
      "source": [
        "model.compile(optimizer=Adam(learning_rate=0.1),loss=MeanAbsoluteError( ),metrics=RootMeanSquaredError())"
      ],
      "metadata": {
        "id": "YjkpcXu-3t4r"
      },
      "execution_count": null,
      "outputs": []
    },
    {
      "cell_type": "code",
      "source": [
        "history = model.fit(train_dataset, validation_data=val_dataset, epochs = 100, verbose = 1)"
      ],
      "metadata": {
        "colab": {
          "base_uri": "https://localhost:8080/"
        },
        "id": "QQKhlxTXDEgc",
        "outputId": "7a67e40c-b22c-4145-8884-86803fef7960"
      },
      "execution_count": null,
      "outputs": [
        {
          "output_type": "stream",
          "name": "stdout",
          "text": [
            "Epoch 1/100\n",
            "25/25 [==============================] - 1s 12ms/step - loss: 161343.7969 - root_mean_squared_error: 209972.7969 - val_loss: 81507.6484 - val_root_mean_squared_error: 94034.9922\n",
            "Epoch 2/100\n",
            "25/25 [==============================] - 0s 4ms/step - loss: 55833.8750 - root_mean_squared_error: 70370.6250 - val_loss: 43209.6289 - val_root_mean_squared_error: 53678.0234\n",
            "Epoch 3/100\n",
            "25/25 [==============================] - 0s 3ms/step - loss: 41610.3672 - root_mean_squared_error: 52015.6836 - val_loss: 45806.6367 - val_root_mean_squared_error: 56838.3359\n",
            "Epoch 4/100\n",
            "25/25 [==============================] - 0s 3ms/step - loss: 39973.8008 - root_mean_squared_error: 51118.6953 - val_loss: 40321.5859 - val_root_mean_squared_error: 50200.9805\n",
            "Epoch 5/100\n",
            "25/25 [==============================] - 0s 4ms/step - loss: 39343.4141 - root_mean_squared_error: 50231.3672 - val_loss: 46156.9414 - val_root_mean_squared_error: 57351.8867\n",
            "Epoch 6/100\n",
            "25/25 [==============================] - 0s 5ms/step - loss: 40292.2656 - root_mean_squared_error: 50731.0938 - val_loss: 42086.3633 - val_root_mean_squared_error: 52596.1719\n",
            "Epoch 7/100\n",
            "25/25 [==============================] - 0s 5ms/step - loss: 39399.8008 - root_mean_squared_error: 49138.8125 - val_loss: 37714.6719 - val_root_mean_squared_error: 47019.2383\n",
            "Epoch 8/100\n",
            "25/25 [==============================] - 0s 5ms/step - loss: 38327.4414 - root_mean_squared_error: 48363.2852 - val_loss: 38144.9062 - val_root_mean_squared_error: 47586.5000\n",
            "Epoch 9/100\n",
            "25/25 [==============================] - 0s 5ms/step - loss: 36128.2266 - root_mean_squared_error: 46394.8477 - val_loss: 35590.8633 - val_root_mean_squared_error: 44498.3867\n",
            "Epoch 10/100\n",
            "25/25 [==============================] - 0s 6ms/step - loss: 38081.2656 - root_mean_squared_error: 48657.3008 - val_loss: 47158.5508 - val_root_mean_squared_error: 58139.0703\n",
            "Epoch 11/100\n",
            "25/25 [==============================] - 0s 5ms/step - loss: 39918.1758 - root_mean_squared_error: 50235.8906 - val_loss: 44926.2188 - val_root_mean_squared_error: 55397.6328\n",
            "Epoch 12/100\n",
            "25/25 [==============================] - 0s 5ms/step - loss: 39388.5000 - root_mean_squared_error: 50690.1797 - val_loss: 41678.1562 - val_root_mean_squared_error: 51864.0547\n",
            "Epoch 13/100\n",
            "25/25 [==============================] - 0s 5ms/step - loss: 38267.8125 - root_mean_squared_error: 48518.0352 - val_loss: 38828.6055 - val_root_mean_squared_error: 48542.5586\n",
            "Epoch 14/100\n",
            "25/25 [==============================] - 0s 6ms/step - loss: 36931.9688 - root_mean_squared_error: 46645.9180 - val_loss: 34947.7617 - val_root_mean_squared_error: 43491.8516\n",
            "Epoch 15/100\n",
            "25/25 [==============================] - 0s 5ms/step - loss: 40003.1562 - root_mean_squared_error: 50869.5469 - val_loss: 35752.8867 - val_root_mean_squared_error: 44290.2227\n",
            "Epoch 16/100\n",
            "25/25 [==============================] - 0s 5ms/step - loss: 38433.6641 - root_mean_squared_error: 48360.6211 - val_loss: 42505.0195 - val_root_mean_squared_error: 52451.6211\n",
            "Epoch 17/100\n",
            "25/25 [==============================] - 0s 5ms/step - loss: 37924.8984 - root_mean_squared_error: 47337.1328 - val_loss: 35833.6406 - val_root_mean_squared_error: 44770.9609\n",
            "Epoch 18/100\n",
            "25/25 [==============================] - 0s 5ms/step - loss: 36708.5195 - root_mean_squared_error: 46376.5273 - val_loss: 36811.6484 - val_root_mean_squared_error: 45667.3984\n",
            "Epoch 19/100\n",
            "25/25 [==============================] - 0s 5ms/step - loss: 36042.7578 - root_mean_squared_error: 45447.7305 - val_loss: 40570.5508 - val_root_mean_squared_error: 50146.3828\n",
            "Epoch 20/100\n",
            "25/25 [==============================] - 0s 5ms/step - loss: 41829.1992 - root_mean_squared_error: 53077.8906 - val_loss: 36805.3516 - val_root_mean_squared_error: 46042.7578\n",
            "Epoch 21/100\n",
            "25/25 [==============================] - 0s 6ms/step - loss: 37711.4570 - root_mean_squared_error: 47305.4453 - val_loss: 38064.2734 - val_root_mean_squared_error: 47158.9492\n",
            "Epoch 22/100\n",
            "25/25 [==============================] - 0s 5ms/step - loss: 35142.7227 - root_mean_squared_error: 44278.2227 - val_loss: 36846.0039 - val_root_mean_squared_error: 45561.2344\n",
            "Epoch 23/100\n",
            "25/25 [==============================] - 0s 5ms/step - loss: 35000.2969 - root_mean_squared_error: 44680.7617 - val_loss: 44005.3594 - val_root_mean_squared_error: 54455.0547\n",
            "Epoch 24/100\n",
            "25/25 [==============================] - 0s 3ms/step - loss: 37483.7891 - root_mean_squared_error: 47288.0273 - val_loss: 36463.8516 - val_root_mean_squared_error: 45713.3633\n",
            "Epoch 25/100\n",
            "25/25 [==============================] - 0s 3ms/step - loss: 37849.7734 - root_mean_squared_error: 47388.4805 - val_loss: 33970.0938 - val_root_mean_squared_error: 42336.3477\n",
            "Epoch 26/100\n",
            "25/25 [==============================] - 0s 3ms/step - loss: 35169.5234 - root_mean_squared_error: 44388.2383 - val_loss: 33844.3789 - val_root_mean_squared_error: 42427.8828\n",
            "Epoch 27/100\n",
            "25/25 [==============================] - 0s 4ms/step - loss: 34790.7891 - root_mean_squared_error: 44288.9062 - val_loss: 40318.6016 - val_root_mean_squared_error: 49809.3867\n",
            "Epoch 28/100\n",
            "25/25 [==============================] - 0s 3ms/step - loss: 36316.4062 - root_mean_squared_error: 46081.1094 - val_loss: 34826.2266 - val_root_mean_squared_error: 43601.0820\n",
            "Epoch 29/100\n",
            "25/25 [==============================] - 0s 3ms/step - loss: 35448.0391 - root_mean_squared_error: 45120.4180 - val_loss: 46726.3906 - val_root_mean_squared_error: 57317.1797\n",
            "Epoch 30/100\n",
            "25/25 [==============================] - 0s 3ms/step - loss: 37968.8125 - root_mean_squared_error: 48347.9961 - val_loss: 32787.9883 - val_root_mean_squared_error: 40917.0977\n",
            "Epoch 31/100\n",
            "25/25 [==============================] - 0s 4ms/step - loss: 35906.6992 - root_mean_squared_error: 45161.5781 - val_loss: 32709.5859 - val_root_mean_squared_error: 40952.7266\n",
            "Epoch 32/100\n",
            "25/25 [==============================] - 0s 3ms/step - loss: 34181.7891 - root_mean_squared_error: 43295.2031 - val_loss: 34577.3164 - val_root_mean_squared_error: 42973.1328\n",
            "Epoch 33/100\n",
            "25/25 [==============================] - 0s 4ms/step - loss: 35981.0508 - root_mean_squared_error: 45300.8711 - val_loss: 38586.5312 - val_root_mean_squared_error: 47862.5195\n",
            "Epoch 34/100\n",
            "25/25 [==============================] - 0s 3ms/step - loss: 39911.5859 - root_mean_squared_error: 50416.5312 - val_loss: 36689.5312 - val_root_mean_squared_error: 45527.7852\n",
            "Epoch 35/100\n",
            "25/25 [==============================] - 0s 4ms/step - loss: 36401.0820 - root_mean_squared_error: 45570.1523 - val_loss: 36685.7344 - val_root_mean_squared_error: 45714.9609\n",
            "Epoch 36/100\n",
            "25/25 [==============================] - 0s 4ms/step - loss: 35430.8438 - root_mean_squared_error: 45237.4766 - val_loss: 35417.1211 - val_root_mean_squared_error: 44003.2109\n",
            "Epoch 37/100\n",
            "25/25 [==============================] - 0s 4ms/step - loss: 35437.5586 - root_mean_squared_error: 44960.6641 - val_loss: 36667.7969 - val_root_mean_squared_error: 45609.7852\n",
            "Epoch 38/100\n",
            "25/25 [==============================] - 0s 3ms/step - loss: 35058.2617 - root_mean_squared_error: 44511.8242 - val_loss: 32690.4902 - val_root_mean_squared_error: 40832.0703\n",
            "Epoch 39/100\n",
            "25/25 [==============================] - 0s 3ms/step - loss: 36676.1797 - root_mean_squared_error: 46422.4453 - val_loss: 33723.0508 - val_root_mean_squared_error: 42170.7930\n",
            "Epoch 40/100\n",
            "25/25 [==============================] - 0s 3ms/step - loss: 35368.3125 - root_mean_squared_error: 44825.6562 - val_loss: 35968.5508 - val_root_mean_squared_error: 44869.0508\n",
            "Epoch 41/100\n",
            "25/25 [==============================] - 0s 4ms/step - loss: 34136.8594 - root_mean_squared_error: 42915.2227 - val_loss: 32895.5898 - val_root_mean_squared_error: 41232.2070\n",
            "Epoch 42/100\n",
            "25/25 [==============================] - 0s 4ms/step - loss: 34342.7148 - root_mean_squared_error: 43266.1289 - val_loss: 35326.3008 - val_root_mean_squared_error: 43937.1797\n",
            "Epoch 43/100\n",
            "25/25 [==============================] - 0s 4ms/step - loss: 34828.4375 - root_mean_squared_error: 44217.5273 - val_loss: 33338.9766 - val_root_mean_squared_error: 41496.9609\n",
            "Epoch 44/100\n",
            "25/25 [==============================] - 0s 3ms/step - loss: 36296.9492 - root_mean_squared_error: 46512.3789 - val_loss: 39820.2227 - val_root_mean_squared_error: 49947.3984\n",
            "Epoch 45/100\n",
            "25/25 [==============================] - 0s 4ms/step - loss: 36282.8906 - root_mean_squared_error: 45470.7539 - val_loss: 34568.7891 - val_root_mean_squared_error: 43031.5039\n",
            "Epoch 46/100\n",
            "25/25 [==============================] - 0s 3ms/step - loss: 34095.2773 - root_mean_squared_error: 43013.1953 - val_loss: 34366.8555 - val_root_mean_squared_error: 43040.9297\n",
            "Epoch 47/100\n",
            "25/25 [==============================] - 0s 4ms/step - loss: 35319.7031 - root_mean_squared_error: 45017.4062 - val_loss: 32422.2754 - val_root_mean_squared_error: 40679.5977\n",
            "Epoch 48/100\n",
            "25/25 [==============================] - 0s 3ms/step - loss: 36701.4023 - root_mean_squared_error: 46288.4805 - val_loss: 33958.1758 - val_root_mean_squared_error: 42465.9414\n",
            "Epoch 49/100\n",
            "25/25 [==============================] - 0s 4ms/step - loss: 33477.4023 - root_mean_squared_error: 42264.5000 - val_loss: 31589.3945 - val_root_mean_squared_error: 39608.0820\n",
            "Epoch 50/100\n",
            "25/25 [==============================] - 0s 4ms/step - loss: 34530.4727 - root_mean_squared_error: 43662.7031 - val_loss: 34225.1016 - val_root_mean_squared_error: 42844.0898\n",
            "Epoch 51/100\n",
            "25/25 [==============================] - 0s 4ms/step - loss: 37709.8750 - root_mean_squared_error: 48095.7812 - val_loss: 34627.4766 - val_root_mean_squared_error: 43131.6797\n",
            "Epoch 52/100\n",
            "25/25 [==============================] - 0s 3ms/step - loss: 34833.0312 - root_mean_squared_error: 43988.3008 - val_loss: 35989.9766 - val_root_mean_squared_error: 44636.4023\n",
            "Epoch 53/100\n",
            "25/25 [==============================] - 0s 4ms/step - loss: 36426.3086 - root_mean_squared_error: 46055.4062 - val_loss: 32220.2207 - val_root_mean_squared_error: 40050.9531\n",
            "Epoch 54/100\n",
            "25/25 [==============================] - 0s 4ms/step - loss: 34432.4141 - root_mean_squared_error: 43035.0273 - val_loss: 32780.0859 - val_root_mean_squared_error: 40886.1328\n",
            "Epoch 55/100\n",
            "25/25 [==============================] - 0s 3ms/step - loss: 33887.6211 - root_mean_squared_error: 42414.6875 - val_loss: 32273.5918 - val_root_mean_squared_error: 40235.8945\n",
            "Epoch 56/100\n",
            "25/25 [==============================] - 0s 3ms/step - loss: 33655.4414 - root_mean_squared_error: 42648.7969 - val_loss: 33263.6602 - val_root_mean_squared_error: 41401.8008\n",
            "Epoch 57/100\n",
            "25/25 [==============================] - 0s 4ms/step - loss: 34326.8281 - root_mean_squared_error: 43338.5000 - val_loss: 35598.4609 - val_root_mean_squared_error: 44266.2031\n",
            "Epoch 58/100\n",
            "25/25 [==============================] - 0s 3ms/step - loss: 33970.5508 - root_mean_squared_error: 43183.4922 - val_loss: 35628.6016 - val_root_mean_squared_error: 44367.8125\n",
            "Epoch 59/100\n",
            "25/25 [==============================] - 0s 4ms/step - loss: 33799.1289 - root_mean_squared_error: 42879.5508 - val_loss: 32630.5879 - val_root_mean_squared_error: 40931.7227\n",
            "Epoch 60/100\n",
            "25/25 [==============================] - 0s 4ms/step - loss: 35159.1602 - root_mean_squared_error: 44320.3477 - val_loss: 32343.7559 - val_root_mean_squared_error: 40581.3711\n",
            "Epoch 61/100\n",
            "25/25 [==============================] - 0s 4ms/step - loss: 33604.5742 - root_mean_squared_error: 42404.4336 - val_loss: 32325.8555 - val_root_mean_squared_error: 40344.2305\n",
            "Epoch 62/100\n",
            "25/25 [==============================] - 0s 4ms/step - loss: 32970.6094 - root_mean_squared_error: 41786.7969 - val_loss: 35697.4609 - val_root_mean_squared_error: 44361.9297\n",
            "Epoch 63/100\n",
            "25/25 [==============================] - 0s 4ms/step - loss: 36050.3438 - root_mean_squared_error: 45500.1484 - val_loss: 32863.1133 - val_root_mean_squared_error: 41025.1211\n",
            "Epoch 64/100\n",
            "25/25 [==============================] - 0s 3ms/step - loss: 35497.9336 - root_mean_squared_error: 45183.0859 - val_loss: 34710.5781 - val_root_mean_squared_error: 43025.1602\n",
            "Epoch 65/100\n",
            "25/25 [==============================] - 0s 4ms/step - loss: 34201.2891 - root_mean_squared_error: 43695.2773 - val_loss: 31803.4922 - val_root_mean_squared_error: 39676.3516\n",
            "Epoch 66/100\n",
            "25/25 [==============================] - 0s 4ms/step - loss: 35712.1797 - root_mean_squared_error: 45188.5156 - val_loss: 33663.4492 - val_root_mean_squared_error: 41751.8555\n",
            "Epoch 67/100\n",
            "25/25 [==============================] - 0s 4ms/step - loss: 33718.4062 - root_mean_squared_error: 42639.6680 - val_loss: 36571.6641 - val_root_mean_squared_error: 45654.3867\n",
            "Epoch 68/100\n",
            "25/25 [==============================] - 0s 3ms/step - loss: 32156.8047 - root_mean_squared_error: 40986.2656 - val_loss: 32373.3594 - val_root_mean_squared_error: 40409.2422\n",
            "Epoch 69/100\n",
            "25/25 [==============================] - 0s 3ms/step - loss: 35529.3008 - root_mean_squared_error: 44965.4297 - val_loss: 35341.9102 - val_root_mean_squared_error: 43612.8906\n",
            "Epoch 70/100\n",
            "25/25 [==============================] - 0s 4ms/step - loss: 32762.1230 - root_mean_squared_error: 41742.3789 - val_loss: 34941.5508 - val_root_mean_squared_error: 43331.0508\n",
            "Epoch 71/100\n",
            "25/25 [==============================] - 0s 3ms/step - loss: 32819.1875 - root_mean_squared_error: 41597.6836 - val_loss: 33849.9258 - val_root_mean_squared_error: 42156.4414\n",
            "Epoch 72/100\n",
            "25/25 [==============================] - 0s 4ms/step - loss: 33067.9766 - root_mean_squared_error: 42102.8516 - val_loss: 31547.2578 - val_root_mean_squared_error: 39736.8789\n",
            "Epoch 73/100\n",
            "25/25 [==============================] - 0s 3ms/step - loss: 34302.6914 - root_mean_squared_error: 44126.4062 - val_loss: 34088.3789 - val_root_mean_squared_error: 42271.1289\n",
            "Epoch 74/100\n",
            "25/25 [==============================] - 0s 3ms/step - loss: 32542.1797 - root_mean_squared_error: 41498.0625 - val_loss: 31772.6270 - val_root_mean_squared_error: 39786.1094\n",
            "Epoch 75/100\n",
            "25/25 [==============================] - 0s 4ms/step - loss: 34289.8398 - root_mean_squared_error: 43637.1094 - val_loss: 33207.0039 - val_root_mean_squared_error: 41237.2266\n",
            "Epoch 76/100\n",
            "25/25 [==============================] - 0s 3ms/step - loss: 33668.4609 - root_mean_squared_error: 43224.7812 - val_loss: 33220.7148 - val_root_mean_squared_error: 41458.4141\n",
            "Epoch 77/100\n",
            "25/25 [==============================] - 0s 3ms/step - loss: 34824.7461 - root_mean_squared_error: 43777.1953 - val_loss: 35708.0703 - val_root_mean_squared_error: 44311.8164\n",
            "Epoch 78/100\n",
            "25/25 [==============================] - 0s 3ms/step - loss: 36911.9570 - root_mean_squared_error: 46334.4062 - val_loss: 35477.7188 - val_root_mean_squared_error: 43971.5742\n",
            "Epoch 79/100\n",
            "25/25 [==============================] - 0s 4ms/step - loss: 39251.1797 - root_mean_squared_error: 49550.7148 - val_loss: 36313.2617 - val_root_mean_squared_error: 45288.1406\n",
            "Epoch 80/100\n",
            "25/25 [==============================] - 0s 4ms/step - loss: 35897.1641 - root_mean_squared_error: 45451.2305 - val_loss: 36848.9062 - val_root_mean_squared_error: 45772.9219\n",
            "Epoch 81/100\n",
            "25/25 [==============================] - 0s 4ms/step - loss: 35497.0859 - root_mean_squared_error: 45794.9258 - val_loss: 36883.9648 - val_root_mean_squared_error: 46069.2617\n",
            "Epoch 82/100\n",
            "25/25 [==============================] - 0s 3ms/step - loss: 33000.3750 - root_mean_squared_error: 42742.0547 - val_loss: 32549.9199 - val_root_mean_squared_error: 41061.7188\n",
            "Epoch 83/100\n",
            "25/25 [==============================] - 0s 3ms/step - loss: 32450.0195 - root_mean_squared_error: 41732.5117 - val_loss: 35748.4258 - val_root_mean_squared_error: 44382.0273\n",
            "Epoch 84/100\n",
            "25/25 [==============================] - 0s 4ms/step - loss: 32319.0957 - root_mean_squared_error: 41954.8164 - val_loss: 34632.0977 - val_root_mean_squared_error: 43251.5664\n",
            "Epoch 85/100\n",
            "25/25 [==============================] - 0s 4ms/step - loss: 32239.1758 - root_mean_squared_error: 41220.0312 - val_loss: 35093.3008 - val_root_mean_squared_error: 44112.3203\n",
            "Epoch 86/100\n",
            "25/25 [==============================] - 0s 3ms/step - loss: 37036.5586 - root_mean_squared_error: 47213.5938 - val_loss: 50643.2656 - val_root_mean_squared_error: 61815.9102\n",
            "Epoch 87/100\n",
            "25/25 [==============================] - 0s 3ms/step - loss: 40399.2109 - root_mean_squared_error: 51474.7305 - val_loss: 54930.8047 - val_root_mean_squared_error: 66103.0625\n",
            "Epoch 88/100\n",
            "25/25 [==============================] - 0s 4ms/step - loss: 44511.1992 - root_mean_squared_error: 56231.8047 - val_loss: 60630.2891 - val_root_mean_squared_error: 71799.1797\n",
            "Epoch 89/100\n",
            "25/25 [==============================] - 0s 4ms/step - loss: 40744.3242 - root_mean_squared_error: 50919.3008 - val_loss: 48297.6211 - val_root_mean_squared_error: 59027.9766\n",
            "Epoch 90/100\n",
            "25/25 [==============================] - 0s 3ms/step - loss: 36191.8164 - root_mean_squared_error: 45489.2188 - val_loss: 51632.4258 - val_root_mean_squared_error: 61940.4609\n",
            "Epoch 91/100\n",
            "25/25 [==============================] - 0s 4ms/step - loss: 37104.7188 - root_mean_squared_error: 46955.9805 - val_loss: 42013.8594 - val_root_mean_squared_error: 51335.1602\n",
            "Epoch 92/100\n",
            "25/25 [==============================] - 0s 4ms/step - loss: 36885.3789 - root_mean_squared_error: 46656.3281 - val_loss: 39058.9727 - val_root_mean_squared_error: 48413.6172\n",
            "Epoch 93/100\n",
            "25/25 [==============================] - 0s 3ms/step - loss: 38183.3984 - root_mean_squared_error: 47747.6562 - val_loss: 33632.9609 - val_root_mean_squared_error: 41665.7461\n",
            "Epoch 94/100\n",
            "25/25 [==============================] - 0s 3ms/step - loss: 34649.6680 - root_mean_squared_error: 44073.8906 - val_loss: 31616.0352 - val_root_mean_squared_error: 39777.6133\n",
            "Epoch 95/100\n",
            "25/25 [==============================] - 0s 4ms/step - loss: 33321.2656 - root_mean_squared_error: 42255.5156 - val_loss: 31425.2441 - val_root_mean_squared_error: 39721.7695\n",
            "Epoch 96/100\n",
            "25/25 [==============================] - 0s 3ms/step - loss: 31041.9043 - root_mean_squared_error: 39586.6523 - val_loss: 30720.6699 - val_root_mean_squared_error: 38899.2734\n",
            "Epoch 97/100\n",
            "25/25 [==============================] - 0s 3ms/step - loss: 31053.2266 - root_mean_squared_error: 40117.6328 - val_loss: 36770.0039 - val_root_mean_squared_error: 45824.0508\n",
            "Epoch 98/100\n",
            "25/25 [==============================] - 0s 4ms/step - loss: 33468.9492 - root_mean_squared_error: 42902.4922 - val_loss: 30902.0469 - val_root_mean_squared_error: 39146.5039\n",
            "Epoch 99/100\n",
            "25/25 [==============================] - 0s 4ms/step - loss: 32606.3945 - root_mean_squared_error: 42367.1484 - val_loss: 41138.3594 - val_root_mean_squared_error: 51013.2188\n",
            "Epoch 100/100\n",
            "25/25 [==============================] - 0s 4ms/step - loss: 36257.0000 - root_mean_squared_error: 46395.5977 - val_loss: 45941.2109 - val_root_mean_squared_error: 56116.9805\n"
          ]
        }
      ]
    },
    {
      "cell_type": "code",
      "source": [
        "plt.plot(history.history['loss'])\n",
        "plt.plot(history.history['val_loss'])\n",
        "plt.title('model loss')\n",
        "plt.ylabel('loss')\n",
        "plt.xlabel('epoch')\n",
        "plt.legend(['train', 'val_loss'])\n",
        "plt.show()"
      ],
      "metadata": {
        "colab": {
          "base_uri": "https://localhost:8080/",
          "height": 472
        },
        "id": "b1af_16mDkwN",
        "outputId": "9206520b-3892-461d-c84a-2fe557a66c2b"
      },
      "execution_count": null,
      "outputs": [
        {
          "output_type": "display_data",
          "data": {
            "text/plain": [
              "<Figure size 640x480 with 1 Axes>"
            ],
            "image/png": "[encoded data removed]"
          },
          "metadata": {}
        }
      ]
    },
    {
      "cell_type": "code",
      "source": [
        "model.evaluate(X_test,y_test)"
      ],
      "metadata": {
        "colab": {
          "base_uri": "https://localhost:8080/"
        },
        "id": "nLUDoRdiE3wI",
        "outputId": "abd6d7d8-c88b-4e26-ec5d-2e2d5a247eee"
      },
      "execution_count": null,
      "outputs": [
        {
          "output_type": "stream",
          "name": "stdout",
          "text": [
            "4/4 [==============================] - 0s 5ms/step - loss: 52503.1953 - root_mean_squared_error: 63500.2109\n"
          ]
        },
        {
          "output_type": "execute_result",
          "data": {
            "text/plain": [
              "[52503.1953125, 63500.2109375]"
            ]
          },
          "metadata": {},
          "execution_count": 179
        }
      ]
    },
    {
      "cell_type": "code",
      "source": [
        "model.predict(X_test).shape"
      ],
      "metadata": {
        "colab": {
          "base_uri": "https://localhost:8080/"
        },
        "id": "kB6XU5GyHwvN",
        "outputId": "eb979b3d-4ccf-4207-d9c3-c10b0f9adb7e"
      },
      "execution_count": null,
      "outputs": [
        {
          "output_type": "stream",
          "name": "stdout",
          "text": [
            "4/4 [==============================] - 0s 5ms/step\n"
          ]
        },
        {
          "output_type": "execute_result",
          "data": {
            "text/plain": [
              "(100, 1)"
            ]
          },
          "metadata": {},
          "execution_count": 180
        }
      ]
    },
    {
      "cell_type": "code",
      "source": [
        "model.predict(tf.expand_dims(X_test[0], axis = 0 ))"
      ],
      "metadata": {
        "colab": {
          "base_uri": "https://localhost:8080/"
        },
        "id": "6Rl5WpceLl_u",
        "outputId": "7ffcdcb6-e69a-429a-f5c3-aa15fcb3189c"
      },
      "execution_count": null,
      "outputs": [
        {
          "output_type": "stream",
          "name": "stdout",
          "text": [
            "1/1 [==============================] - 0s 29ms/step\n"
          ]
        },
        {
          "output_type": "execute_result",
          "data": {
            "text/plain": [
              "array([[185884.19]], dtype=float32)"
            ]
          },
          "metadata": {},
          "execution_count": 181
        }
      ]
    },
    {
      "cell_type": "code",
      "source": [
        "model.predict(tf.expand_dims(X_test[0], axis = 0 ))"
      ],
      "metadata": {
        "colab": {
          "base_uri": "https://localhost:8080/"
        },
        "id": "bb35p3-2NVqp",
        "outputId": "9ff9ce70-c771-4b11-a5cd-d399c81e014d"
      },
      "execution_count": null,
      "outputs": [
        {
          "output_type": "stream",
          "name": "stdout",
          "text": [
            "1/1 [==============================] - 0s 30ms/step\n"
          ]
        },
        {
          "output_type": "execute_result",
          "data": {
            "text/plain": [
              "array([[185884.19]], dtype=float32)"
            ]
          },
          "metadata": {},
          "execution_count": 182
        }
      ]
    },
    {
      "cell_type": "code",
      "source": [
        "y_true=list(y_test[:,0].numpy())\n",
        "y_pred = list(model.predict(X_test)[:,0])\n",
        "print(y_pred)"
      ],
      "metadata": {
        "colab": {
          "base_uri": "https://localhost:8080/"
        },
        "id": "uPuWQs4nNi8R",
        "outputId": "1796dc3c-ee00-4e05-e85c-1672d243ff88"
      },
      "execution_count": null,
      "outputs": [
        {
          "output_type": "stream",
          "name": "stdout",
          "text": [
            "4/4 [==============================] - 0s 4ms/step\n",
            "[185884.23, 430696.84, 444140.97, 310497.16, 337069.56, 401472.1, 381409.2, 142704.81, 105619.09, 100314.266, 351249.03, 113589.03, 169006.72, 317631.75, 389847.53, 274710.03, 147980.67, 422534.78, 179515.86, 140611.81, 300412.38, 316898.3, 318856.06, 264467.66, 286966.06, 422332.22, 396040.03, 267827.78, 252654.17, 319734.2, 241086.5, 162440.67, 393162.94, 141522.38, 154705.23, 128393.37, 170094.08, 340907.97, 407526.88, 190187.19, 422055.34, 216554.73, 388350.84, 198998.73, 301656.94, 130175.99, 271469.03, 193564.36, 192892.02, 388866.78, 168584.2, 373509.5, 258232.73, 350123.16, 94243.484, 296915.62, 250042.89, 112752.98, 240463.95, 214270.1, 373833.6, 191153.3, 323950.84, 270806.9, 372521.16, 138939.38, 194571.27, 351071.22, 266565.22, 437603.1, 352192.62, 227829.64, 129010.22, 177060.19, 285995.72, 389216.53, 365038.3, 225243.75, 314304.66, 112505.125, 442625.56, 325045.12, 409416.9, 307901.22, 250035.17, 433445.16, 308718.84, 162061.06, 433496.84, 137499.39, 396396.78, 168466.11, 222744.17, 218309.42, 307919.66, 112613.31, 285629.4, 400795.7, 215228.17, 212626.55]\n"
          ]
        }
      ]
    },
    {
      "cell_type": "code",
      "source": [
        "ind = np.arange(100)\n",
        "plt.figure(figsize=(40,20))\n",
        "\n",
        "width = 0.1\n",
        "\n",
        "plt.bar(ind, y_pred, width, label='Predicted Car Price')\n",
        "plt.bar(ind + width, y_true, width, label='Actual Car Price')\n",
        "\n",
        "plt.xlabel('Actual vs Predicted Prices')\n",
        "plt.ylabel('Car Price Prices')\n",
        "\n",
        "plt.show()"
      ],
      "metadata": {
        "colab": {
          "base_uri": "https://localhost:8080/",
          "height": 574
        },
        "id": "gqfF2liWM_1n",
        "outputId": "797d0598-408c-48af-c685-29d88a7461c1"
      },
      "execution_count": null,
      "outputs": [
        {
          "output_type": "display_data",
          "data": {
            "text/plain": [
              "<Figure size 4000x2000 with 1 Axes>"
            ],
            "image/png": "[encoded data removed]"
          },
          "metadata": {}
        }
      ]
    }
  ]
}